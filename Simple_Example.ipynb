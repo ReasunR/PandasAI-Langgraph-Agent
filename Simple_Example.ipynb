{
 "cells": [
  {
   "cell_type": "code",
   "id": "initial_id",
   "metadata": {
    "collapsed": true,
    "ExecuteTime": {
     "end_time": "2024-11-14T10:24:48.004185Z",
     "start_time": "2024-11-14T10:24:47.968912Z"
    }
   },
   "source": [
    "from pandasai.connectors import PostgreSQLConnector\n",
    "from pandasai.llm import OpenAI\n",
    "from pandasai.llm.local_llm import LocalLLM\n",
    "from pandasai import Agent\n",
    "import os\n",
    "import sys\n",
    "\n",
    "sys.path.append('../')\n",
    "\n",
    "from typing import Annotated\n",
    "from typing_extensions import TypedDict\n",
    "from langchain_core.messages import HumanMessage, SystemMessage\n",
    "\n",
    "from langgraph.graph.message import AnyMessage, add_messages\n",
    "from langgraph.graph import END, StateGraph\n"
   ],
   "outputs": [],
   "execution_count": 29
  },
  {
   "metadata": {
    "ExecuteTime": {
     "end_time": "2024-11-14T10:24:51.548480Z",
     "start_time": "2024-11-14T10:24:51.438282Z"
    }
   },
   "cell_type": "code",
   "source": [
    "# define llms for pandasAI\n",
    "ollama_llm = LocalLLM(api_base=\"http://localhost:11434/v1\", model=\"llama3\")\n",
    "openai_llm_4o = OpenAI(\n",
    "    api_token=os.environ.get('openai_api_key'),\n",
    "    model=\"gpt-4o\",\n",
    ")\n",
    "openai_llm_gpt4 = OpenAI(\n",
    "    api_token=os.environ.get('openai_api_key'),\n",
    "    model=\"gpt-4\",\n",
    ")\n",
    "openai_llm_gpt35 = OpenAI(\n",
    "    api_token=os.environ.get('openai_api_key'),\n",
    "    model=\"gpt-3.5-turbo\",\n",
    ")\n",
    "openai_llm_40_mini = OpenAI(\n",
    "    api_token=os.environ.get('openai_api_key'),\n",
    "    model=\"gpt-4o-mini\",\n",
    ")"
   ],
   "id": "f7042da91434e35b",
   "outputs": [],
   "execution_count": 30
  },
  {
   "metadata": {
    "ExecuteTime": {
     "end_time": "2024-11-14T10:24:57.421604Z",
     "start_time": "2024-11-14T10:24:57.377326Z"
    }
   },
   "cell_type": "code",
   "source": [
    "# define llm for langgraph\n",
    "from langchain_openai import ChatOpenAI\n",
    "openai_api_key = os.environ.get(\"openai_api_key\")\n",
    "llm = ChatOpenAI(model=\"gpt-3.5-turbo\", openai_api_key=openai_api_key)"
   ],
   "id": "181ef2b5ffdee214",
   "outputs": [],
   "execution_count": 31
  },
  {
   "metadata": {
    "ExecuteTime": {
     "end_time": "2024-11-14T10:25:01.808327Z",
     "start_time": "2024-11-14T10:25:01.799889Z"
    }
   },
   "cell_type": "code",
   "source": [
    "class State(TypedDict):  # If necessary, adapt the state\n",
    "    messages: Annotated[list[AnyMessage], add_messages]"
   ],
   "id": "eb0db99f28616899",
   "outputs": [],
   "execution_count": 32
  },
  {
   "metadata": {
    "ExecuteTime": {
     "end_time": "2024-11-14T10:25:05.851178Z",
     "start_time": "2024-11-14T10:25:05.846829Z"
    }
   },
   "cell_type": "code",
   "source": [
    "def welcome_agent(state: State):\n",
    "    system_message = SystemMessage(\n",
    "        content=\"You are a primary assistant, your job is to only select the sub-assistant to handle the user query. There are three sub-assistants available: FlightSearchAssistant and HotelSearchAssistant and Hello. If the user says bye, return END. Please select one of them as output string\")\n",
    "    data = llm.invoke([system_message] + state[\"messages\"])\n",
    "    return {\"messages\": [data]}"
   ],
   "id": "7bf7f17b9daff18e",
   "outputs": [],
   "execution_count": 33
  },
  {
   "metadata": {
    "ExecuteTime": {
     "end_time": "2024-11-14T10:25:34.824444Z",
     "start_time": "2024-11-14T10:25:34.819561Z"
    }
   },
   "cell_type": "code",
   "source": [
    "def query_hotel_db(query: str):\n",
    "    employees_df_postgres = PostgreSQLConnector(\n",
    "    config={\n",
    "        \"host\": \"localhost\",\n",
    "        \"port\": 5432,\n",
    "        \"database\": \"postgres\",\n",
    "        \"username\": \"checkito950\",\n",
    "        \"password\": \"123456\",\n",
    "        \"table\": \"hotel_information\",\n",
    "    })\n",
    "    agent = Agent([employees_df_postgres], config={\"llm\": openai_llm_gpt4, \"max_retries\": 3, \"verbose\": True})\n",
    "    return agent.chat(query)\n",
    "\n",
    "def search_hotel_by_user_query(state: State):\n",
    "    query = state[\"messages\"][-2].content\n",
    "    result = query_hotel_db(query)\n",
    "    \n",
    "    if result is None:\n",
    "        return {\"messages\": \"Sorry, I could not find any information about the hotel\"}\n",
    "    return {\"messages\": str(result)}"
   ],
   "id": "d59d93cdfbbbd6d2",
   "outputs": [],
   "execution_count": 34
  },
  {
   "metadata": {
    "ExecuteTime": {
     "end_time": "2024-11-14T10:25:42.792422Z",
     "start_time": "2024-11-14T10:25:42.788285Z"
    }
   },
   "cell_type": "code",
   "source": [
    "def query_flight_db(query: str):\n",
    "    employees_df_postgres = PostgreSQLConnector(\n",
    "    config={\n",
    "        \"host\": \"localhost\",\n",
    "        \"port\": 5432,\n",
    "        \"database\": \"postgres\",\n",
    "        \"username\": \"checkito950\",\n",
    "        \"password\": \"123456\",\n",
    "        \"table\": \"flights\",\n",
    "    })\n",
    "    agent = Agent([employees_df_postgres], config={\"llm\": openai_llm_gpt4, \"max_retries\": 3, \"verbose\": True})\n",
    "    return agent.chat(query)\n",
    "\n",
    "def search_flight_by_user_query(state: State):\n",
    "    query = state[\"messages\"][-2].content\n",
    "    result = query_flight_db(query)\n",
    "    \n",
    "    if result is None:\n",
    "        return {\"messages\": \"Sorry, I could not find any information about the flight\"}\n",
    "    return {\"messages\": str(result)}"
   ],
   "id": "f01fb6b00b6f4f13",
   "outputs": [],
   "execution_count": 35
  },
  {
   "metadata": {
    "ExecuteTime": {
     "end_time": "2024-11-14T10:25:49.863603Z",
     "start_time": "2024-11-14T10:25:49.860483Z"
    }
   },
   "cell_type": "code",
   "source": [
    "def get_user_input(state: State):\n",
    "    response_message_before = state[\"messages\"][-1].content\n",
    "    user_input = input(f\"{response_message_before} \\n Enter your query: \")\n",
    "    return {\"messages\": [HumanMessage(content=user_input)]}"
   ],
   "id": "f136b1c33b1a6ace",
   "outputs": [],
   "execution_count": 36
  },
  {
   "metadata": {
    "ExecuteTime": {
     "end_time": "2024-11-14T10:25:53.997064Z",
     "start_time": "2024-11-14T10:25:53.991332Z"
    }
   },
   "cell_type": "code",
   "source": [
    "def route_to_sub_assistant(state: State):\n",
    "    if state[\"messages\"][-1].content == \"HotelSearchAssistant\":\n",
    "        return \"search_hotel\"\n",
    "    elif state[\"messages\"][-1].content == \"FlightSearchAssistant\":\n",
    "        return \"search_flight\"\n",
    "    elif state[\"messages\"][-1].content == \"Hello\":\n",
    "        return \"get_user_input\"\n",
    "    return END"
   ],
   "id": "c0b4bc7655e4a328",
   "outputs": [],
   "execution_count": 37
  },
  {
   "metadata": {
    "ExecuteTime": {
     "end_time": "2024-11-14T10:25:57.663581Z",
     "start_time": "2024-11-14T10:25:57.658525Z"
    }
   },
   "cell_type": "code",
   "source": [
    "my_graph = StateGraph(State)\n",
    "my_graph.set_entry_point(\"welcome-agent\")\n",
    "\n",
    "my_graph.add_node(\"welcome-agent\", welcome_agent)\n",
    "my_graph.add_node(\"search_hotel\", search_hotel_by_user_query)\n",
    "my_graph.add_node(\"search_flight\", search_flight_by_user_query)\n",
    "my_graph.add_node(\"get_user_input\", get_user_input)\n",
    "\n",
    "my_graph.add_conditional_edges(\"welcome-agent\", route_to_sub_assistant)\n",
    "my_graph.add_edge(\"search_flight\", \"get_user_input\")\n",
    "my_graph.add_edge(\"search_hotel\", \"get_user_input\")\n",
    "my_graph.add_edge(\"get_user_input\", \"welcome-agent\")\n"
   ],
   "id": "651639589666675c",
   "outputs": [],
   "execution_count": 38
  },
  {
   "metadata": {
    "ExecuteTime": {
     "end_time": "2024-11-14T10:25:59.426128Z",
     "start_time": "2024-11-14T10:25:59.421367Z"
    }
   },
   "cell_type": "code",
   "source": "app = my_graph.compile()",
   "id": "f8b80af5ca9469a8",
   "outputs": [],
   "execution_count": 39
  },
  {
   "metadata": {
    "ExecuteTime": {
     "end_time": "2024-11-14T10:26:03.165576Z",
     "start_time": "2024-11-14T10:26:01.039538Z"
    }
   },
   "cell_type": "code",
   "source": [
    "from IPython.display import Image\n",
    "\n",
    "Image(app.get_graph().draw_mermaid_png())"
   ],
   "id": "bb21991d7a929a93",
   "outputs": [
    {
     "data": {
      "image/jpeg": "[encoded data removed]",
      "text/plain": [
       "<IPython.core.display.Image object>"
      ]
     },
     "execution_count": 40,
     "metadata": {},
     "output_type": "execute_result"
    }
   ],
   "execution_count": 40
  },
  {
   "metadata": {
    "ExecuteTime": {
     "end_time": "2024-11-14T10:29:05.145229Z",
     "start_time": "2024-11-14T10:26:20.048835Z"
    }
   },
   "cell_type": "code",
   "source": [
    "app.invoke(\n",
    "    {\"messages\": [HumanMessage(content=\"Hello\")]\n",
    "     }\n",
    ")"
   ],
   "id": "b7cc73a702eb5cd9",
   "outputs": [
    {
     "name": "stdout",
     "output_type": "stream",
     "text": [
      "2024-11-14 11:26:22 [INFO] HTTP Request: POST https://api.openai.com/v1/chat/completions \"HTTP/1.1 200 OK\"\n",
      "2024-11-14 11:27:02 [INFO] HTTP Request: POST https://api.openai.com/v1/chat/completions \"HTTP/1.1 200 OK\"\n",
      "2024-11-14 11:27:02 [INFO] Question: I want to book a flight from Munich to New York. Show me all the flight with departure time before 10 which is executed by Lufthansa\n",
      "2024-11-14 11:27:02 [INFO] Running PandasAI with openai LLM...\n",
      "2024-11-14 11:27:02 [INFO] Prompt ID: e6db268c-f590-4123-ac54-baef193b06b6\n",
      "2024-11-14 11:27:02 [INFO] Executing Pipeline: GenerateChatPipeline\n",
      "2024-11-14 11:27:02 [INFO] Executing Step 0: ValidatePipelineInput\n",
      "2024-11-14 11:27:02 [INFO] Executing Step 1: CacheLookup\n",
      "2024-11-14 11:27:02 [INFO] Executing Step 2: PromptGeneration\n",
      "2024-11-14 11:27:05 [INFO] Querying without using training data.\n",
      "2024-11-14 11:27:05 [INFO] Querying without using training docs.\n",
      "2024-11-14 11:27:05 [INFO] Using prompt: <dataframe name=\"flights\">\n",
      "dfs[0]:10x9\n",
      "from_city,to_city,departure_time,number_of_stops,airline,price,total_duration,deployed_package_incl,id\n",
      "Munich,New York,11,1,American Airlines,590.45,9.1,False,26\n",
      "Munich,New York,10,0,British Airways,600.75,8.5,False,22\n",
      "Munich,New York,12,0,Emirates,640.8,8.6,False,30\n",
      "</dataframe>\n",
      "\n",
      "\n",
      "\n",
      "\n",
      "Update this initial code:\n",
      "```python\n",
      "# TODO: import the required dependencies\n",
      "import pandas as pd\n",
      "\n",
      "# Write code here\n",
      "\n",
      "# Declare result var: \n",
      "type (possible values \"string\", \"number\", \"dataframe\", \"plot\"). Examples: { \"type\": \"string\", \"value\": f\"The highest salary is {highest_salary}.\" } or { \"type\": \"number\", \"value\": 125 } or { \"type\": \"dataframe\", \"value\": pd.DataFrame({...}) } or { \"type\": \"plot\", \"value\": \"temp_chart.png\" }\n",
      "\n",
      "```\n",
      "\n",
      "\n",
      "\n",
      "\n",
      "\n",
      "\n",
      "\n",
      "### QUERY\n",
      " I want to book a flight from Munich to New York. Show me all the flight with departure time before 10 which is executed by Lufthansa\n",
      "\n",
      "Variable `dfs: list[pd.DataFrame]` is already declared.\n",
      "\n",
      "At the end, declare \"result\" variable as a dictionary of type and value.\n",
      "\n",
      "If you are asked to plot a chart, use \"matplotlib\" for charts, save as png.\n",
      "\n",
      "\n",
      "Generate python code and return full updated code:\n",
      "2024-11-14 11:27:05 [INFO] Executing Step 3: CodeGenerator\n",
      "2024-11-14 11:27:13 [INFO] HTTP Request: POST https://api.openai.com/v1/chat/completions \"HTTP/1.1 200 OK\"\n",
      "2024-11-14 11:27:13 [INFO] Prompt used:\n",
      "            <dataframe name=\"flights\">\n",
      "dfs[0]:10x9\n",
      "from_city,to_city,departure_time,number_of_stops,airline,price,total_duration,deployed_package_incl,id\n",
      "Munich,New York,11,1,American Airlines,590.45,9.1,False,26\n",
      "Munich,New York,10,0,British Airways,600.75,8.5,False,22\n",
      "Munich,New York,12,0,Emirates,640.8,8.6,False,30\n",
      "</dataframe>\n",
      "\n",
      "\n",
      "\n",
      "\n",
      "Update this initial code:\n",
      "```python\n",
      "# TODO: import the required dependencies\n",
      "import pandas as pd\n",
      "\n",
      "# Write code here\n",
      "\n",
      "# Declare result var: \n",
      "type (possible values \"string\", \"number\", \"dataframe\", \"plot\"). Examples: { \"type\": \"string\", \"value\": f\"The highest salary is {highest_salary}.\" } or { \"type\": \"number\", \"value\": 125 } or { \"type\": \"dataframe\", \"value\": pd.DataFrame({...}) } or { \"type\": \"plot\", \"value\": \"temp_chart.png\" }\n",
      "\n",
      "```\n",
      "\n",
      "\n",
      "\n",
      "\n",
      "\n",
      "\n",
      "\n",
      "### QUERY\n",
      " I want to book a flight from Munich to New York. Show me all the flight with departure time before 10 which is executed by Lufthansa\n",
      "\n",
      "Variable `dfs: list[pd.DataFrame]` is already declared.\n",
      "\n",
      "At the end, declare \"result\" variable as a dictionary of type and value.\n",
      "\n",
      "If you are asked to plot a chart, use \"matplotlib\" for charts, save as png.\n",
      "\n",
      "\n",
      "Generate python code and return full updated code:\n",
      "            \n",
      "2024-11-14 11:27:13 [INFO] Code generated:\n",
      "            ```\n",
      "            # Import the required dependencies\n",
      "import pandas as pd\n",
      "\n",
      "# Assuming dfs[0] is the dataframe containing flight information\n",
      "df = dfs[0]\n",
      "\n",
      "# Filter the dataframe for flights from Munich to New York, departure time before 10 and airline is Lufthansa\n",
      "filtered_df = df[(df['from_city'] == 'Munich') & (df['to_city'] == 'New York') & (df['departure_time'] < 10) & (df['airline'] == 'Lufthansa')]\n",
      "\n",
      "# Declare result var: \n",
      "result = { \"type\": \"dataframe\", \"value\": filtered_df }\n",
      "            ```\n",
      "            \n",
      "2024-11-14 11:27:13 [INFO] Executing Step 4: CachePopulation\n",
      "2024-11-14 11:27:13 [INFO] Executing Step 5: CodeCleaning\n",
      "2024-11-14 11:27:13 [INFO] \n",
      "Code running:\n",
      "```\n",
      "df = dfs[0]\n",
      "filtered_df = df[(df['from_city'] == 'Munich') & (df['to_city'] == 'New York') & (df['departure_time'] < 10) & (df['airline'] == 'Lufthansa')]\n",
      "result = {'type': 'dataframe', 'value': filtered_df}\n",
      "        ```\n",
      "2024-11-14 11:27:13 [INFO] Executing Step 6: CodeExecution\n",
      "2024-11-14 11:27:13 [INFO] Executing Step 7: ResultValidation\n",
      "2024-11-14 11:27:13 [INFO] Answer: {'type': 'dataframe', 'value':   from_city   to_city  departure_time  number_of_stops    airline  price  \\\n",
      "0    Munich  New York               7                1  Lufthansa  550.5   \n",
      "\n",
      "   total_duration  deployed_package_incl  id  \n",
      "0             9.0                   True  21  }\n",
      "2024-11-14 11:27:13 [INFO] Executing Step 8: ResultParsing\n",
      "2024-11-14 11:28:13 [INFO] HTTP Request: POST https://api.openai.com/v1/chat/completions \"HTTP/1.1 200 OK\"\n",
      "2024-11-14 11:28:13 [INFO] Question: Make a plot about the relationship between price, distance to city center and stars for all the hotels in New York. also show the hotel name\n",
      "2024-11-14 11:28:13 [INFO] Running PandasAI with openai LLM...\n",
      "2024-11-14 11:28:13 [INFO] Prompt ID: 55b04b3a-7daf-43da-9521-ca65fa9af0a5\n",
      "2024-11-14 11:28:13 [INFO] Executing Pipeline: GenerateChatPipeline\n",
      "2024-11-14 11:28:13 [INFO] Executing Step 0: ValidatePipelineInput\n",
      "2024-11-14 11:28:14 [INFO] Executing Step 1: CacheLookup\n",
      "2024-11-14 11:28:14 [INFO] Executing Step 2: PromptGeneration\n",
      "2024-11-14 11:28:14 [INFO] Querying without using training data.\n",
      "2024-11-14 11:28:14 [INFO] Querying without using training docs.\n",
      "2024-11-14 11:28:14 [INFO] Using prompt: <dataframe name=\"hotel_information\">\n",
      "dfs[0]:30x11\n",
      "hotel_id,city,hotel_name,price,stars,breakfast,parking,pool,spa,distance_to_city_center_in_km,distance_to_metro_in_km\n",
      "2,Paris,Louvre Inn,180.0,4,True,True,True,False,1.5,0.5\n",
      "15,Toronto,Uptown Comfort,75.0,2,True,False,True,False,5.0,2.5\n",
      "28,New York,Hudson River Inn,110.0,3,True,False,True,False,4.2,2.2\n",
      "</dataframe>\n",
      "\n",
      "\n",
      "\n",
      "\n",
      "Update this initial code:\n",
      "```python\n",
      "# TODO: import the required dependencies\n",
      "import pandas as pd\n",
      "\n",
      "# Write code here\n",
      "\n",
      "# Declare result var: \n",
      "type (possible values \"string\", \"number\", \"dataframe\", \"plot\"). Examples: { \"type\": \"string\", \"value\": f\"The highest salary is {highest_salary}.\" } or { \"type\": \"number\", \"value\": 125 } or { \"type\": \"dataframe\", \"value\": pd.DataFrame({...}) } or { \"type\": \"plot\", \"value\": \"temp_chart.png\" }\n",
      "\n",
      "```\n",
      "\n",
      "\n",
      "\n",
      "\n",
      "\n",
      "\n",
      "\n",
      "### QUERY\n",
      " Make a plot about the relationship between price, distance to city center and stars for all the hotels in New York. also show the hotel name\n",
      "\n",
      "Variable `dfs: list[pd.DataFrame]` is already declared.\n",
      "\n",
      "At the end, declare \"result\" variable as a dictionary of type and value.\n",
      "\n",
      "If you are asked to plot a chart, use \"matplotlib\" for charts, save as png.\n",
      "\n",
      "\n",
      "Generate python code and return full updated code:\n",
      "2024-11-14 11:28:14 [INFO] Executing Step 3: CodeGenerator\n",
      "2024-11-14 11:28:31 [INFO] HTTP Request: POST https://api.openai.com/v1/chat/completions \"HTTP/1.1 200 OK\"\n",
      "2024-11-14 11:28:31 [INFO] Prompt used:\n",
      "            <dataframe name=\"hotel_information\">\n",
      "dfs[0]:30x11\n",
      "hotel_id,city,hotel_name,price,stars,breakfast,parking,pool,spa,distance_to_city_center_in_km,distance_to_metro_in_km\n",
      "2,Paris,Louvre Inn,180.0,4,True,True,True,False,1.5,0.5\n",
      "15,Toronto,Uptown Comfort,75.0,2,True,False,True,False,5.0,2.5\n",
      "28,New York,Hudson River Inn,110.0,3,True,False,True,False,4.2,2.2\n",
      "</dataframe>\n",
      "\n",
      "\n",
      "\n",
      "\n",
      "Update this initial code:\n",
      "```python\n",
      "# TODO: import the required dependencies\n",
      "import pandas as pd\n",
      "\n",
      "# Write code here\n",
      "\n",
      "# Declare result var: \n",
      "type (possible values \"string\", \"number\", \"dataframe\", \"plot\"). Examples: { \"type\": \"string\", \"value\": f\"The highest salary is {highest_salary}.\" } or { \"type\": \"number\", \"value\": 125 } or { \"type\": \"dataframe\", \"value\": pd.DataFrame({...}) } or { \"type\": \"plot\", \"value\": \"temp_chart.png\" }\n",
      "\n",
      "```\n",
      "\n",
      "\n",
      "\n",
      "\n",
      "\n",
      "\n",
      "\n",
      "### QUERY\n",
      " Make a plot about the relationship between price, distance to city center and stars for all the hotels in New York. also show the hotel name\n",
      "\n",
      "Variable `dfs: list[pd.DataFrame]` is already declared.\n",
      "\n",
      "At the end, declare \"result\" variable as a dictionary of type and value.\n",
      "\n",
      "If you are asked to plot a chart, use \"matplotlib\" for charts, save as png.\n",
      "\n",
      "\n",
      "Generate python code and return full updated code:\n",
      "            \n",
      "2024-11-14 11:28:31 [INFO] Code generated:\n",
      "            ```\n",
      "            # Import the required dependencies\n",
      "import pandas as pd\n",
      "import matplotlib.pyplot as plt\n",
      "\n",
      "# Assuming dfs[0] is the dataframe containing hotel information\n",
      "df = dfs[0]\n",
      "\n",
      "# Filter out the hotels in New York\n",
      "ny_hotels = df[df['city'] == 'New York']\n",
      "\n",
      "# Create a new figure\n",
      "fig, ax = plt.subplots()\n",
      "\n",
      "# Create a scatter plot with price on the x-axis, distance to city center on the y-axis,\n",
      "# and the size of the markers representing the number of stars\n",
      "scatter = ax.scatter(ny_hotels['price'], ny_hotels['distance_to_city_center_in_km'], c=ny_hotels['stars'], cmap='viridis')\n",
      "\n",
      "# Add labels to the markers with the hotel names\n",
      "for i, txt in enumerate(ny_hotels['hotel_name']):\n",
      "    ax.annotate(txt, (ny_hotels['price'].iloc[i], ny_hotels['distance_to_city_center_in_km'].iloc[i]))\n",
      "\n",
      "# Add a colorbar to the plot to show the number of stars\n",
      "cbar = plt.colorbar(scatter)\n",
      "cbar.set_label('Stars')\n",
      "\n",
      "# Set the labels for the x and y axes\n",
      "ax.set_xlabel('Price')\n",
      "ax.set_ylabel('Distance to City Center (km)')\n",
      "\n",
      "# Set the title of the plot\n",
      "ax.set_title('Relationship between Price, Distance to City Center and Stars for Hotels in New York')\n",
      "\n",
      "# Save the plot as a png file\n",
      "plt.savefig('hotel_plot.png')\n",
      "\n",
      "result = {\"type\": \"plot\", \"value\": \"hotel_plot.png\"}\n",
      "            ```\n",
      "            \n",
      "2024-11-14 11:28:31 [INFO] Executing Step 4: CachePopulation\n",
      "2024-11-14 11:28:31 [INFO] Executing Step 5: CodeCleaning\n",
      "2024-11-14 11:28:31 [INFO] Saving charts to /Users/checkito950/PycharmProjects/PandasAI_Agent/exports/charts/temp_chart.png\n",
      "2024-11-14 11:28:31 [INFO] \n",
      "Code running:\n",
      "```\n",
      "df = dfs[0]\n",
      "ny_hotels = df[df['city'] == 'New York']\n",
      "fig, ax = plt.subplots()\n",
      "scatter = ax.scatter(ny_hotels['price'], ny_hotels['distance_to_city_center_in_km'], c=ny_hotels['stars'], cmap='viridis')\n",
      "for i, txt in enumerate(ny_hotels['hotel_name']):\n",
      "    ax.annotate(txt, (ny_hotels['price'].iloc[i], ny_hotels['distance_to_city_center_in_km'].iloc[i]))\n",
      "cbar = plt.colorbar(scatter)\n",
      "cbar.set_label('Stars')\n",
      "ax.set_xlabel('Price')\n",
      "ax.set_ylabel('Distance to City Center (km)')\n",
      "ax.set_title('Relationship between Price, Distance to City Center and Stars for Hotels in New York')\n",
      "plt.savefig('/Users/checkito950/PycharmProjects/PandasAI_Agent/exports/charts/temp_chart.png')\n",
      "result = {'type': 'plot', 'value': '/Users/checkito950/PycharmProjects/PandasAI_Agent/exports/charts/temp_chart.png'}\n",
      "        ```\n",
      "2024-11-14 11:28:31 [INFO] Executing Step 6: CodeExecution\n",
      "2024-11-14 11:28:31 [INFO] Executing Step 7: ResultValidation\n",
      "2024-11-14 11:28:31 [INFO] Answer: {'type': 'plot', 'value': '/Users/checkito950/PycharmProjects/PandasAI_Agent/exports/charts/temp_chart.png'}\n",
      "2024-11-14 11:28:32 [INFO] Executing Step 8: ResultParsing\n",
      "2024-11-14 11:29:05 [INFO] HTTP Request: POST https://api.openai.com/v1/chat/completions \"HTTP/1.1 200 OK\"\n"
     ]
    },
    {
     "data": {
      "text/plain": [
       "{'messages': [HumanMessage(content='Hello', id='6f8d87e8-81dd-4840-bb81-c4773fd5a0a6'),\n",
       "  AIMessage(content='Hello', response_metadata={'token_usage': {'completion_tokens': 1, 'prompt_tokens': 70, 'total_tokens': 71, 'prompt_tokens_details': {'cached_tokens': 0, 'audio_tokens': 0}, 'completion_tokens_details': {'reasoning_tokens': 0, 'audio_tokens': 0, 'accepted_prediction_tokens': 0, 'rejected_prediction_tokens': 0}}, 'model_name': 'gpt-3.5-turbo-0125', 'system_fingerprint': None, 'finish_reason': 'stop', 'logprobs': None}, id='run-d4f7d830-e9db-4286-8e1d-d909feaa1c55-0', usage_metadata={'input_tokens': 70, 'output_tokens': 1, 'total_tokens': 71}),\n",
       "  HumanMessage(content='I want to book a flight from Munich to New York. Show me all the flight with departure time before 10 which is executed by Lufthansa', id='d2e47888-3f54-4dc9-9f70-d9ed82712964'),\n",
       "  AIMessage(content='FlightSearchAssistant', response_metadata={'token_usage': {'completion_tokens': 3, 'prompt_tokens': 110, 'total_tokens': 113, 'prompt_tokens_details': {'cached_tokens': 0, 'audio_tokens': 0}, 'completion_tokens_details': {'reasoning_tokens': 0, 'audio_tokens': 0, 'accepted_prediction_tokens': 0, 'rejected_prediction_tokens': 0}}, 'model_name': 'gpt-3.5-turbo-0125', 'system_fingerprint': None, 'finish_reason': 'stop', 'logprobs': None}, id='run-64479534-50f9-4420-9aaa-5f902ac46403-0', usage_metadata={'input_tokens': 110, 'output_tokens': 3, 'total_tokens': 113}),\n",
       "  HumanMessage(content='  from_city   to_city  departure_time  number_of_stops    airline  price  \\\\\\n0    Munich  New York               7                1  Lufthansa  550.5   \\n\\n   total_duration  deployed_package_incl  id  \\n0             9.0                   True  21  ', id='e338cdc4-2423-433e-965a-d41c44e41faa'),\n",
       "  HumanMessage(content='Make a plot about the relationship between price, distance to city center and stars for all the hotels in New York. also show the hotel name', id='8c4919cd-2345-46c3-a7a1-f15451f2a72d'),\n",
       "  AIMessage(content='HotelSearchAssistant', response_metadata={'token_usage': {'completion_tokens': 3, 'prompt_tokens': 219, 'total_tokens': 222, 'prompt_tokens_details': {'cached_tokens': 0, 'audio_tokens': 0}, 'completion_tokens_details': {'reasoning_tokens': 0, 'audio_tokens': 0, 'accepted_prediction_tokens': 0, 'rejected_prediction_tokens': 0}}, 'model_name': 'gpt-3.5-turbo-0125', 'system_fingerprint': None, 'finish_reason': 'stop', 'logprobs': None}, id='run-421a1f16-bdd3-46f2-bc41-fd0d6a16270f-0', usage_metadata={'input_tokens': 219, 'output_tokens': 3, 'total_tokens': 222}),\n",
       "  HumanMessage(content='/Users/checkito950/PycharmProjects/PandasAI_Agent/exports/charts/temp_chart.png', id='aeec8856-c5b7-4e73-9d43-a543f8fc5304'),\n",
       "  HumanMessage(content='bye', id='99f19993-a0ab-414d-8f2d-63ef001158d0'),\n",
       "  AIMessage(content='END', response_metadata={'token_usage': {'completion_tokens': 1, 'prompt_tokens': 255, 'total_tokens': 256, 'prompt_tokens_details': {'cached_tokens': 0, 'audio_tokens': 0}, 'completion_tokens_details': {'reasoning_tokens': 0, 'audio_tokens': 0, 'accepted_prediction_tokens': 0, 'rejected_prediction_tokens': 0}}, 'model_name': 'gpt-3.5-turbo-0125', 'system_fingerprint': None, 'finish_reason': 'stop', 'logprobs': None}, id='run-421d0e19-4ff8-43c6-8af2-7c9c383859ae-0', usage_metadata={'input_tokens': 255, 'output_tokens': 1, 'total_tokens': 256})]}"
      ]
     },
     "execution_count": 41,
     "metadata": {},
     "output_type": "execute_result"
    },
    {
     "data": {
      "text/plain": [
       "<Figure size 640x480 with 2 Axes>"
      ],
      "image/png": "[encoded data removed]"
     },
     "metadata": {},
     "output_type": "display_data"
    }
   ],
   "execution_count": 41
  },
  {
   "metadata": {},
   "cell_type": "code",
   "outputs": [],
   "execution_count": null,
   "source": "",
   "id": "45190f09f0565b03"
  }
 ],
 "metadata": {
  "kernelspec": {
   "display_name": "Python 3",
   "language": "python",
   "name": "python3"
  },
  "language_info": {
   "codemirror_mode": {
    "name": "ipython",
    "version": 2
   },
   "file_extension": ".py",
   "mimetype": "text/x-python",
   "name": "python",
   "nbconvert_exporter": "python",
   "pygments_lexer": "ipython2",
   "version": "2.7.6"
  }
 },
 "nbformat": 4,
 "nbformat_minor": 5
}
